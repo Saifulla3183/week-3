{
 "cells": [
  {
   "cell_type": "code",
   "execution_count": 17,
   "id": "31181993-bc4a-4192-be44-7b8606f9d99b",
   "metadata": {},
   "outputs": [
    {
     "name": "stdout",
     "output_type": "stream",
     "text": [
      "allufias\n"
     ]
    }
   ],
   "source": [
    "# Reverse of a string\n",
    "s = 'saifulla'\n",
    "reverse = (s[::-1])\n",
    "print(reverse)"
   ]
  },
  {
   "cell_type": "code",
   "execution_count": 19,
   "id": "ba51afa9-a79a-4b3a-9632-10efc8d34cf1",
   "metadata": {},
   "outputs": [
    {
     "name": "stdout",
     "output_type": "stream",
     "text": [
      "Second largest element is: 45\n"
     ]
    }
   ],
   "source": [
    "# Finding second largest element\n",
    "\n",
    "lst = [10, 20, 4, 45, 99]\n",
    "\n",
    "unique_lst = list(set(lst))  # Remove duplicates\n",
    "unique_lst.sort()            # Sort in ascending order\n",
    "print(\"Second largest element is:\", unique_lst[-2])"
   ]
  },
  {
   "cell_type": "code",
   "execution_count": 4,
   "id": "7822c455-c855-4a01-b07e-59db115ee9aa",
   "metadata": {},
   "outputs": [
    {
     "name": "stdout",
     "output_type": "stream",
     "text": [
      "Fibonacci Series:\n",
      "0 1 1 2 3 5 8 13 21 34 "
     ]
    }
   ],
   "source": [
    "# Fibonacci Series up to n terms\n",
    "n = 10\n",
    "a, b = 0, 1\n",
    "print(\"Fibonacci Series:\")\n",
    "for _ in range(n):\n",
    "    print(a, end=' ')\n",
    "    a, b = b, a + b"
   ]
  },
  {
   "cell_type": "code",
   "execution_count": 9,
   "id": "8409fad2-e2cc-44ea-9875-f950d51bdb87",
   "metadata": {},
   "outputs": [
    {
     "name": "stdin",
     "output_type": "stream",
     "text": [
      "Enter a String wow\n"
     ]
    },
    {
     "name": "stdout",
     "output_type": "stream",
     "text": [
      "'wow' is a palindrome\n"
     ]
    }
   ],
   "source": [
    "# Example for Palindrome\n",
    "string = input(\"Enter a String\")\n",
    "if string == string[::-1]:\n",
    "    print(f\"'{string}' is a palindrome\")\n",
    "else:\n",
    "    print(f\"'{string}' is not a palindrome\")"
   ]
  },
  {
   "cell_type": "code",
   "execution_count": 10,
   "id": "aae1867f-390d-4c88-b6fd-b37e88fe98f5",
   "metadata": {},
   "outputs": [
    {
     "name": "stdout",
     "output_type": "stream",
     "text": [
      "After swapping: a = 10 , b = 5\n"
     ]
    }
   ],
   "source": [
    "# Swaping Two Variables Without Using Third Variable\n",
    "a = 5\n",
    "b = 10\n",
    "a, b = b, a\n",
    "print(\"After swapping: a =\", a, \", b =\", b)"
   ]
  },
  {
   "cell_type": "code",
   "execution_count": 13,
   "id": "5f18170a-d33f-4b04-a44f-6619279565a2",
   "metadata": {},
   "outputs": [
    {
     "name": "stdin",
     "output_type": "stream",
     "text": [
      "Enter a number 5\n"
     ]
    },
    {
     "name": "stdout",
     "output_type": "stream",
     "text": [
      "Factorial of 5 is: 120\n"
     ]
    }
   ],
   "source": [
    "# Factorial of a Number Using Recursion\n",
    "def factorial(n):\n",
    "    if n == 0 or n == 1:\n",
    "        return 1\n",
    "    else:\n",
    "        return n * factorial(n - 1)\n",
    "num = int(input(\"Enter a number\"))\n",
    "print(f\"Factorial of {num} is:\", factorial(num))"
   ]
  },
  {
   "cell_type": "code",
   "execution_count": 14,
   "id": "45867c72-fabc-470d-9fe3-189a8680bfb4",
   "metadata": {},
   "outputs": [
    {
     "name": "stdout",
     "output_type": "stream",
     "text": [
      "First: 1\n",
      "Last: 5\n",
      "Middle: 3\n"
     ]
    }
   ],
   "source": [
    "# Acessing elements from any particular position\n",
    "\n",
    "lst = [1, 2, 3, 4, 5]\n",
    "\n",
    "print(\"First:\", lst[0])\n",
    "print(\"Last:\", lst[-1])\n",
    "print(\"Middle:\", lst[len(lst)//2])"
   ]
  },
  {
   "cell_type": "code",
   "execution_count": 20,
   "id": "e9f6bf83-cb2f-4135-83b9-33759cf1db7e",
   "metadata": {},
   "outputs": [
    {
     "name": "stdout",
     "output_type": "stream",
     "text": [
      "Max: 9\n",
      "Min: 1\n"
     ]
    }
   ],
   "source": [
    "# Finding Maximum and Minimum element\n",
    "lst = [1, 7, 3, 9, 2]\n",
    "print(\"Max:\", max(lst))\n",
    "print(\"Min:\", min(lst))"
   ]
  },
  {
   "cell_type": "code",
   "execution_count": 21,
   "id": "58be361a-bb3b-4b08-ae4e-60f0f1e5c693",
   "metadata": {},
   "outputs": [
    {
     "name": "stdout",
     "output_type": "stream",
     "text": [
      "Sum: 15\n"
     ]
    }
   ],
   "source": [
    "# Sum of all elements\n",
    "lst = [1, 2, 3, 4, 5]\n",
    "print(\"Sum:\", sum(lst))"
   ]
  },
  {
   "cell_type": "code",
   "execution_count": 25,
   "id": "83a1c5a5-aed4-447a-9611-e0ddd295a22c",
   "metadata": {},
   "outputs": [
    {
     "name": "stdout",
     "output_type": "stream",
     "text": [
      "3 exists in the list\n"
     ]
    }
   ],
   "source": [
    "# Check if a number is exist in a list\n",
    "lst = [1, 2, 3, 4, 5]\n",
    "\n",
    "if 4 in lst:\n",
    "    print(\"3 exists in the list\")\n",
    "else:\n",
    "    print(\"3 is not exist in the list\")"
   ]
  },
  {
   "cell_type": "code",
   "execution_count": 27,
   "id": "db9bdf03-e80b-4ced-b885-ffde6c11928e",
   "metadata": {},
   "outputs": [
    {
     "name": "stdout",
     "output_type": "stream",
     "text": [
      "Ascending: [1, 2, 3, 4, 5]\n",
      "Descending: [5, 4, 3, 2, 1]\n"
     ]
    }
   ],
   "source": [
    "# Sort list ascending and descending\n",
    "\n",
    "lst = [3, 1, 4, 2, 5]\n",
    "\n",
    "# Ascending\n",
    "lst.sort()\n",
    "print(\"Ascending:\", lst)\n",
    "\n",
    "# Descending\n",
    "lst.sort(reverse=True)\n",
    "print(\"Descending:\", lst)"
   ]
  },
  {
   "cell_type": "code",
   "execution_count": 28,
   "id": "8ad5674c-1976-45b3-b820-440d15278670",
   "metadata": {},
   "outputs": [
    {
     "name": "stdout",
     "output_type": "stream",
     "text": [
      "Second largest: 45\n"
     ]
    }
   ],
   "source": [
    "# Another way to find second largest element\n",
    "lst = [10, 20, 4, 45, 99]\n",
    "\n",
    "first = second = float('-inf')  # did understand these particular line\n",
    "\n",
    "for num in lst:\n",
    "    if num > first:\n",
    "        second = first\n",
    "        first = num\n",
    "    elif first > num > second:\n",
    "        second = num\n",
    "\n",
    "print(\"Second largest:\", second)\n"
   ]
  },
  {
   "cell_type": "code",
   "execution_count": 29,
   "id": "984a7fc0-f803-4708-b162-38036c33b74f",
   "metadata": {},
   "outputs": [
    {
     "name": "stdout",
     "output_type": "stream",
     "text": [
      "Even numbers: [2, 4, 6, 8, 10]\n",
      "Odd numbers: [1, 3, 5, 7, 9]\n"
     ]
    }
   ],
   "source": [
    "# All odd and even numbers present in the list\n",
    "\n",
    "lst = [1, 2, 3, 4, 5, 6, 7, 8, 9, 10]\n",
    "\n",
    "even = []\n",
    "odd = []\n",
    "\n",
    "for num in lst:\n",
    "    if num % 2 == 0:\n",
    "        even.append(num)\n",
    "    else:\n",
    "        odd.append(num)\n",
    "\n",
    "print(\"Even numbers:\", even)\n",
    "print(\"Odd numbers:\", odd)"
   ]
  },
  {
   "cell_type": "code",
   "execution_count": null,
   "id": "18645d9f-166e-4f30-bc1e-4bd363812f0c",
   "metadata": {},
   "outputs": [],
   "source": []
  }
 ],
 "metadata": {
  "kernelspec": {
   "display_name": "Python 3 (ipykernel)",
   "language": "python",
   "name": "python3"
  },
  "language_info": {
   "codemirror_mode": {
    "name": "ipython",
    "version": 3
   },
   "file_extension": ".py",
   "mimetype": "text/x-python",
   "name": "python",
   "nbconvert_exporter": "python",
   "pygments_lexer": "ipython3",
   "version": "3.13.4"
  }
 },
 "nbformat": 4,
 "nbformat_minor": 5
}
