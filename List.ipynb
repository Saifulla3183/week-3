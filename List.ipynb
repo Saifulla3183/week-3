{
 "cells": [
  {
   "cell_type": "markdown",
   "id": "bab9e928-b658-4d58-af6d-18d3f1566db8",
   "metadata": {},
   "source": [
    "# List\n",
    "- Insertion order is preserved\n",
    "- Duplicate objects are allowed\n",
    "- Heterogeneous objects are allowed\n",
    "- List are Dynamic\n",
    "- Here index will play very important role\n",
    "- It supports both -ve and +v indexing\n",
    "- It is mutable, we can change it"
   ]
  },
  {
   "cell_type": "code",
   "execution_count": 9,
   "id": "a50d9697-d269-492a-ad3b-290e81b9a746",
   "metadata": {},
   "outputs": [
    {
     "name": "stdout",
     "output_type": "stream",
     "text": [
      "[]\n",
      "<class 'list'>\n",
      "[10, 20, 30, 40]\n",
      "<class 'list'>\n"
     ]
    },
    {
     "name": "stdin",
     "output_type": "stream",
     "text": [
      "Enter List: 10,20,40\n"
     ]
    },
    {
     "name": "stdout",
     "output_type": "stream",
     "text": [
      "10,20,40\n",
      "<class 'str'>\n",
      "['saifulla', 'is', 'a', 'good', 'boy', '!!!']\n",
      "<class 'list'>\n"
     ]
    }
   ],
   "source": [
    "# Creation of List Objects\n",
    "# We can create empty list object as follows... \n",
    "list=[] \n",
    "print(list) \n",
    "print(type(list)) # we created a empty list\n",
    "\n",
    "# If we know elements already then we can create list as follows list=[] \n",
    "list = [10,20,30,40] \n",
    "print(list) \n",
    "print(type(list)) # values inside the list\n",
    "\n",
    "# With dynamic input: \n",
    "list=(input(\"Enter List:\"))   \n",
    "print(list) \n",
    "print(type(list)) \n",
    "\n",
    "\n",
    "# With split() function: \n",
    "s=\"saifulla is a good boy !!!\" \n",
    "l=s.split() \n",
    "print(l) \n",
    "print(type(l)) \n",
    "\n"
   ]
  },
  {
   "cell_type": "markdown",
   "id": "9d253d38-2c02-4bbb-97bd-0ec46586273b",
   "metadata": {},
   "source": [
    "# Accessing elements of List: \n",
    "We can access elements of the list either by using index or by using slice operator\n",
    "1. By using index\n",
    "   - List follows zero based index. i.e., index of first element is zero\n",
    "   - List supports both Positive and Negative indexes\n",
    "   - Positive index meant for Left to Right\n",
    "   - Negative index meant for Right to Left\n",
    "2.  By using slice operator\n",
    "# Syntax\n",
    "list2= list1[start:stop:step] \n",
    "# start\n",
    "- It indicates the index where slice has to start default value is 0\n",
    "# stop\n",
    "- It indicates the index where slice has to end default value is max allowed index of list i.e., length of the list\n",
    "# step\n",
    "- Increment value"
   ]
  },
  {
   "cell_type": "code",
   "execution_count": 12,
   "id": "c01fe4ed-dbd7-4cbb-bcc4-7d8d735da55d",
   "metadata": {},
   "outputs": [
    {
     "name": "stdout",
     "output_type": "stream",
     "text": [
      "10\n",
      "40\n",
      "10\n"
     ]
    },
    {
     "ename": "IndexError",
     "evalue": "list index out of range",
     "output_type": "error",
     "traceback": [
      "\u001b[31m---------------------------------------------------------------------------\u001b[39m",
      "\u001b[31mIndexError\u001b[39m                                Traceback (most recent call last)",
      "\u001b[36mCell\u001b[39m\u001b[36m \u001b[39m\u001b[32mIn[12]\u001b[39m\u001b[32m, line 6\u001b[39m\n\u001b[32m      4\u001b[39m \u001b[38;5;28mprint\u001b[39m(\u001b[38;5;28mlist\u001b[39m[-\u001b[32m1\u001b[39m])  \u001b[38;5;66;03m# starts from -1 index\u001b[39;00m\n\u001b[32m      5\u001b[39m \u001b[38;5;28mprint\u001b[39m(\u001b[38;5;28mlist\u001b[39m[-\u001b[32m4\u001b[39m])  \u001b[38;5;66;03m# starts from reverse -4 index\u001b[39;00m\n\u001b[32m----> \u001b[39m\u001b[32m6\u001b[39m \u001b[38;5;28mprint\u001b[39m(\u001b[38;5;28;43mlist\u001b[39;49m\u001b[43m[\u001b[49m\u001b[32;43m10\u001b[39;49m\u001b[43m]\u001b[49m)  \u001b[38;5;66;03m# it prints out of range\u001b[39;00m\n",
      "\u001b[31mIndexError\u001b[39m: list index out of range"
     ]
    }
   ],
   "source": [
    "# Example using index\n",
    "list=[10,20,30,40] \n",
    "print(list[0])   # starts from 0th index\n",
    "print(list[-1])  # starts from -1 index\n",
    "print(list[-4])  # starts from reverse -4 index\n",
    "print(list[10])  # it prints out of range"
   ]
  },
  {
   "cell_type": "code",
   "execution_count": 13,
   "id": "2a076952-d7bd-467d-87fe-51c6a5accc48",
   "metadata": {},
   "outputs": [
    {
     "name": "stdout",
     "output_type": "stream",
     "text": [
      "[30, 40]\n",
      "40\n"
     ]
    }
   ],
   "source": [
    "# Example 2\n",
    "list = [10,20,[30,40]] \n",
    "print(list[2])  \n",
    "print(list[2][1])"
   ]
  },
  {
   "cell_type": "code",
   "execution_count": 16,
   "id": "2c068fb5-9c77-4992-bcff-772b8d26113d",
   "metadata": {},
   "outputs": [
    {
     "name": "stdout",
     "output_type": "stream",
     "text": [
      "[10, 20, 30, 40, 50, 60]\n",
      "[10, 30, 50]\n",
      "[60, 50, 40, 30, 20, 10]\n"
     ]
    }
   ],
   "source": [
    "# Example using slicing \n",
    "l = [10,20,30,40,50,60] \n",
    "print(l[::]) \n",
    "print(l[::2]) # Multiple by 2\n",
    "print(l[::-1]) # Reverse of a list"
   ]
  },
  {
   "cell_type": "code",
   "execution_count": 17,
   "id": "fba8d8ce-0f09-4b45-8419-f13b1b3a51ce",
   "metadata": {},
   "outputs": [
    {
     "name": "stdout",
     "output_type": "stream",
     "text": [
      "[3, 5, 7]\n",
      "[5, 7, 9]\n",
      "[4, 5, 6, 7]\n",
      "[9, 7, 5]\n",
      "[5, 6, 7, 8, 9, 10]\n"
     ]
    }
   ],
   "source": [
    "# another example\n",
    "n=[1,2,3,4,5,6,7,8,9,10] \n",
    "print(n[2:7:2])    \n",
    "print(n[4::2])     \n",
    "print(n[3:7])     \n",
    "print(n[8:2:-2])    \n",
    "print(n[4:100])"
   ]
  },
  {
   "cell_type": "markdown",
   "id": "0f412510-88b2-499b-9144-cee5a0a52b55",
   "metadata": {},
   "source": [
    "# List vs mutability: \n",
    "Once we creates a List object, we can modify its content. Hence List objects are mutable. "
   ]
  },
  {
   "cell_type": "code",
   "execution_count": 18,
   "id": "fba6f1fe-39f5-4660-a77c-ece14cf6efe5",
   "metadata": {},
   "outputs": [
    {
     "name": "stdout",
     "output_type": "stream",
     "text": [
      "[10, 20, 30, 40]\n",
      "[10, 777, 30, 40]\n"
     ]
    }
   ],
   "source": [
    "# Example\n",
    "n=[10,20,30,40] \n",
    "print(n)  \n",
    "n[1]=777 \n",
    "print(n)"
   ]
  },
  {
   "cell_type": "markdown",
   "id": "1383c826-221f-413a-a966-88928bc421e9",
   "metadata": {},
   "source": [
    "#  Traversing the elements of List\n",
    "The sequential access of each element in the list is called traversal"
   ]
  },
  {
   "cell_type": "code",
   "execution_count": 19,
   "id": "89215fc5-a0e7-478d-8d0c-5d15c82b0a5e",
   "metadata": {},
   "outputs": [
    {
     "name": "stdout",
     "output_type": "stream",
     "text": [
      "0\n",
      "1\n",
      "2\n",
      "3\n",
      "4\n",
      "5\n",
      "6\n",
      "7\n",
      "8\n",
      "9\n",
      "10\n"
     ]
    }
   ],
   "source": [
    "#  By using while loop: \n",
    "n=[0,1,2,3,4,5,6,7,8,9,10] \n",
    "i=0 \n",
    "while i<len(n): \n",
    "    print(n[i]) \n",
    "    i=i+1 "
   ]
  },
  {
   "cell_type": "code",
   "execution_count": 20,
   "id": "f7b06f0f-ff61-4c47-b892-90ebd80c7fff",
   "metadata": {},
   "outputs": [
    {
     "name": "stdout",
     "output_type": "stream",
     "text": [
      "0\n",
      "1\n",
      "2\n",
      "3\n",
      "4\n",
      "5\n",
      "6\n",
      "7\n",
      "8\n",
      "9\n",
      "10\n"
     ]
    }
   ],
   "source": [
    "#  By using for loop: \n",
    "n=[0,1,2,3,4,5,6,7,8,9,10] \n",
    "for n1 in n: \n",
    "    print(n1) "
   ]
  },
  {
   "cell_type": "markdown",
   "id": "3f50fa5d-f298-46b8-9a70-3a5faf5c2d7b",
   "metadata": {},
   "source": [
    "#  Important functions of List \n",
    "difference between function and method\n",
    "- In Python you can use both these terms interchangeably\n",
    "# Function: \n",
    "- Function by default considered as method also \n",
    "- If a function is declaring outside a class is called as function\n",
    "# Method : \n",
    "- If you are declaring a function inside a class is called as a method \n",
    "- In other words, if you are calling any function with object reference is called as method"
   ]
  },
  {
   "cell_type": "code",
   "execution_count": 25,
   "id": "fd94f4ff-f4b8-4e2e-9843-e85614bc934e",
   "metadata": {},
   "outputs": [
    {
     "name": "stdout",
     "output_type": "stream",
     "text": [
      "4\n",
      "1\n",
      "4\n",
      "2\n",
      "0\n",
      "0\n",
      "1\n",
      "5\n"
     ]
    }
   ],
   "source": [
    "#  To get information about list\n",
    "#1. len(): \n",
    "# It returns the number of elements present in the list. \n",
    "n=[10,20,30,40] \n",
    "print(len(n))\n",
    "# 2. count(): \n",
    "# It returns the number of occurrences of specified item in the list. \n",
    "n=[1,2,2,2,2,3,3] \n",
    "print(n.count(1))\n",
    "print(n.count(2))\n",
    "print(n.count(3))\n",
    "print(n.count(4))\n",
    "# 3. index() function: \n",
    "# It returns the index of first occurrence of the specified item.  \n",
    "n=[1,2,2,2,2,3,3] \n",
    "print(n.index(1))   \n",
    "print(n.index(2))   \n",
    "print(n.index(3))   "
   ]
  },
  {
   "cell_type": "code",
   "execution_count": 27,
   "id": "8f2c871b-cebb-45dc-9852-81df4ef287b0",
   "metadata": {},
   "outputs": [
    {
     "name": "stdin",
     "output_type": "stream",
     "text": [
      "Enter value to search :  20\n"
     ]
    },
    {
     "name": "stdout",
     "output_type": "stream",
     "text": [
      "20 available and its first occurrence is at  1\n"
     ]
    }
   ],
   "source": [
    "# Checking the targets\n",
    "l = [10,20,30,40,10,20,10,10] \n",
    "target = int(input('Enter value to search : ')) \n",
    "if target in l: \n",
    "    print(target,'available and its first occurrence is at ',l.index(target)) \n",
    "else: \n",
    "    print(target,' is not available')"
   ]
  },
  {
   "cell_type": "markdown",
   "id": "9871682c-3b36-44aa-a71b-bd33b2b02810",
   "metadata": {},
   "source": [
    "#  Manipulating Elements of List: \n",
    "# 1. append() function: \n",
    "- We can use append() function to add item at the end of the list. \n",
    "- By using this append function, we always add an element at last position.\n",
    "# 2. insert() function: \n",
    "- It is used to insert item at specified index position.\n",
    "# 3. extend() function: \n",
    "- To add all items of one list to another list, we use extend() method.\n",
    "# 4. remove() function: \n",
    "- We can use this function to remove specified item from the list. \n",
    "- If the item present multiple times then only first occurrence will be removed.\n",
    "# 5. pop() function: \n",
    "- It removes and returns the last element of the list. \n",
    "- This is only function which manipulates list and returns some element."
   ]
  },
  {
   "cell_type": "code",
   "execution_count": 28,
   "id": "55ff3b44-e3ce-4af4-8391-cb2204053dc0",
   "metadata": {},
   "outputs": [
    {
     "name": "stdout",
     "output_type": "stream",
     "text": [
      "['A', 'B', 'C']\n"
     ]
    }
   ],
   "source": [
    "# Example for append() function\n",
    "list=[] \n",
    "list.append(\"A\") \n",
    "list.append(\"B\") \n",
    "list.append(\"C\") \n",
    "print(list)"
   ]
  },
  {
   "cell_type": "code",
   "execution_count": 30,
   "id": "d8df8878-712f-4f8d-9181-57469134c91c",
   "metadata": {},
   "outputs": [
    {
     "name": "stdout",
     "output_type": "stream",
     "text": [
      "[0, 10, 20, 30, 40, 50, 60, 70, 80, 90, 100]\n",
      "[0, 10, 20, 30, 40, 50, 60, 70, 80, 90, 100]\n"
     ]
    }
   ],
   "source": [
    "# Example to add all elements to list up to 100 which are divisible by 10. \n",
    "list=[] \n",
    "for i in range(101): \n",
    "    if i%10==0: \n",
    "        list.append(i) \n",
    "print(list) \n",
    "\n",
    "\n",
    "# Simple way\n",
    "list= [] \n",
    "for i in range(0,101,10): \n",
    "    list.append(i) \n",
    "print(list) "
   ]
  },
  {
   "cell_type": "code",
   "execution_count": 32,
   "id": "03882b24-d358-4511-b931-9eb56e9ce1c3",
   "metadata": {},
   "outputs": [
    {
     "name": "stdout",
     "output_type": "stream",
     "text": [
      "[1, 888, 2, 3, 4, 5]\n",
      "[999, 1, 888, 2, 3, 4, 5, 777]\n",
      "7\n",
      "0\n"
     ]
    }
   ],
   "source": [
    "# Example for insert() function\n",
    "n=[1,2,3,4,5] \n",
    "n.insert(1,888) \n",
    "print(n)\n",
    "n.insert(10,777) \n",
    "n.insert(-10,999) \n",
    "print(n) \n",
    "print(n.index(777))\n",
    "print(n.index(999)) "
   ]
  },
  {
   "cell_type": "code",
   "execution_count": 35,
   "id": "9c11c859-2c97-46df-9ae8-ab7b214880e2",
   "metadata": {},
   "outputs": [
    {
     "name": "stdout",
     "output_type": "stream",
     "text": [
      "['Chicken', 'Mutton', 'Fish', 'RC', 'KF', 'FO']\n",
      "['RC', 'KF', 'FO']\n",
      "['Chicken', 'Mutton', 'Fish']\n",
      "['RC', 'KF', 'FO']\n",
      "['Chicken', 'Mutton', 'Fish', 'RC', 'KF', 'FO']\n"
     ]
    }
   ],
   "source": [
    "# Example for extend() function\n",
    "order1=[\"Chicken\",\"Mutton\",\"Fish\"] \n",
    "order2=[\"RC\",\"KF\",\"FO\"] \n",
    "order1.extend(order2) # It extend order2 in order1\n",
    "print(order1)  \n",
    "print(order2)\n",
    "\n",
    "\n",
    "# Another way\n",
    "order1=[\"Chicken\",\"Mutton\",\"Fish\"] \n",
    "order2=[\"RC\",\"KF\",\"FO\"] \n",
    "order3 = order1 + order2 \n",
    "print(order1)  \n",
    "print(order2)  \n",
    "print(order3)"
   ]
  },
  {
   "cell_type": "code",
   "execution_count": 36,
   "id": "3116bd20-4e96-4739-9c90-b09f24a57457",
   "metadata": {},
   "outputs": [
    {
     "name": "stdout",
     "output_type": "stream",
     "text": [
      "[20, 10, 30]\n"
     ]
    }
   ],
   "source": [
    "# Example for remove() function\n",
    "n=[10,20,10,30] \n",
    "n.remove(10) # It removes the value where it can find 10\n",
    "print(n) "
   ]
  },
  {
   "cell_type": "code",
   "execution_count": 37,
   "id": "cf4efbdb-0de3-4eb5-a513-a571cac786fa",
   "metadata": {},
   "outputs": [
    {
     "name": "stdin",
     "output_type": "stream",
     "text": [
      "Enter the element to be removed :  20\n"
     ]
    },
    {
     "name": "stdout",
     "output_type": "stream",
     "text": [
      "Element removed Successfully \n",
      "[10, 30, 40, 50, 60, 70]\n"
     ]
    }
   ],
   "source": [
    "# another example\n",
    "l1= [10,20,30,40,50,60,70] \n",
    "x = int(input('Enter the element to be removed : ')) \n",
    "if x in l1: \n",
    "    l1.remove(x) \n",
    "    print('Element removed Successfully ') \n",
    "    print(l1) \n",
    "else: \n",
    "    print('Specified element is not available ')"
   ]
  },
  {
   "cell_type": "code",
   "execution_count": 38,
   "id": "1dd4574a-e09f-4a88-a57e-a28b426c1250",
   "metadata": {},
   "outputs": [
    {
     "name": "stdout",
     "output_type": "stream",
     "text": [
      "40\n",
      "30\n",
      "[10, 20]\n"
     ]
    }
   ],
   "source": [
    "# Example for pop() function\n",
    "n=[10,20,30,40] \n",
    "print(n.pop())  # here it removes the last element of the list\n",
    "print(n.pop())  \n",
    "print(n) "
   ]
  },
  {
   "cell_type": "markdown",
   "id": "a2881e42-9baa-4db4-80fb-e20023116390",
   "metadata": {},
   "source": [
    "# Ordering elements of List: \n",
    "# 1. reverse(): \n",
    "- We can use to reverse() order of elements of list\n",
    "# 2. sort():\n",
    "-  In list by default insertion order is preserved. If you want to sort the elements of list according to default natural sorting order then we should go for sort() method.\n",
    "-  For numbers (default natural sorting order is Ascending Order)\n",
    "-  For Strings (default natural sorting order is Alphabetical Order)"
   ]
  },
  {
   "cell_type": "code",
   "execution_count": 39,
   "id": "f36802f4-31c2-4df0-bb2b-3df99adae4fe",
   "metadata": {},
   "outputs": [
    {
     "name": "stdout",
     "output_type": "stream",
     "text": [
      "[40, 30, 20, 10]\n"
     ]
    }
   ],
   "source": [
    "# Example for reverse()\n",
    "n=[10,20,30,40] \n",
    "n.reverse() \n",
    "print(n) "
   ]
  },
  {
   "cell_type": "code",
   "execution_count": 41,
   "id": "0b65e851-dc1c-4663-8d61-4ec7ef1bce4a",
   "metadata": {},
   "outputs": [
    {
     "name": "stdout",
     "output_type": "stream",
     "text": [
      "[0, 5, 10, 15, 20]\n",
      "['Apple', 'Banana', 'Cat', 'Dog']\n"
     ]
    }
   ],
   "source": [
    "# Example for sort()\n",
    "# For numbers\n",
    "n=[20,5,15,10,0] \n",
    "n.sort() \n",
    "print(n) \n",
    "# For strings\n",
    "s=[\"Dog\",\"Banana\",\"Cat\",\"Apple\"] \n",
    "s.sort() \n",
    "print(s) "
   ]
  },
  {
   "cell_type": "code",
   "execution_count": null,
   "id": "384de312-16d4-4a67-9c6b-2083eb4b12c4",
   "metadata": {},
   "outputs": [],
   "source": []
  }
 ],
 "metadata": {
  "kernelspec": {
   "display_name": "Python 3 (ipykernel)",
   "language": "python",
   "name": "python3"
  },
  "language_info": {
   "codemirror_mode": {
    "name": "ipython",
    "version": 3
   },
   "file_extension": ".py",
   "mimetype": "text/x-python",
   "name": "python",
   "nbconvert_exporter": "python",
   "pygments_lexer": "ipython3",
   "version": "3.13.4"
  }
 },
 "nbformat": 4,
 "nbformat_minor": 5
}
