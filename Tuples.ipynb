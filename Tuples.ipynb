{
 "cells": [
  {
   "cell_type": "markdown",
   "id": "f66ba00b-bbf8-4f5d-9093-11184452dbd8",
   "metadata": {},
   "source": [
    "# Tuples\n",
    "Tuple is similar to list except that it is immutable\n",
    "- once we creates Tuple object, we cannot perform any changes in that object\n",
    "- If our data is fixed and never changes then we should go for Tuple. \n",
    "- Insertion Order is preserved. \n",
    "- Duplicates are allowed\n",
    "- Heterogeneous objects are allowed. \n",
    "- We can preserve insertion order and we can differentiate duplicate objects by using index. Hence index will play very important role in Tuple also. \n",
    "- Tuple support both +ve and -ve index. +ve index means forward direction(from left to right) and -ve index means backward direction(from right to left)"
   ]
  },
  {
   "cell_type": "code",
   "execution_count": 3,
   "id": "ec398fe2-241a-4f99-be8f-7ab5c6f7fadb",
   "metadata": {},
   "outputs": [
    {
     "name": "stdout",
     "output_type": "stream",
     "text": [
      "()\n",
      "<class 'tuple'>\n",
      "(10, 20, 30, 40)\n",
      "<class 'tuple'>\n"
     ]
    }
   ],
   "source": [
    "# Creation of Tuple\n",
    "s = ()\n",
    "print(s)\n",
    "print(type(s))\n",
    "\n",
    "# Example\n",
    "t=(10,20,30,40) \n",
    "print(t) \n",
    "print(type(t))"
   ]
  },
  {
   "cell_type": "code",
   "execution_count": 5,
   "id": "d972c143-bba8-4d96-b784-bdbec520aef3",
   "metadata": {},
   "outputs": [
    {
     "name": "stdout",
     "output_type": "stream",
     "text": [
      "(10,)\n",
      "<class 'tuple'>\n",
      "10\n",
      "<class 'int'>\n"
     ]
    }
   ],
   "source": [
    "# another example and it comes under tuple\n",
    "t = (10,) \n",
    "print(t) \n",
    "print(type(t))\n",
    "\n",
    "t = 10      # It is not a tuple \n",
    "print(t)\n",
    "print(type(t)) "
   ]
  },
  {
   "cell_type": "markdown",
   "id": "5dac6f76-6a87-4ff2-9108-2a7ebcf20f37",
   "metadata": {},
   "source": [
    "# By using tuple() function: \n",
    "If you have any sequence (i.e., string, list, range etc.,) which can be easily converted into a tuple by using tuple() function."
   ]
  },
  {
   "cell_type": "code",
   "execution_count": 6,
   "id": "ae11952e-899c-4229-9f8b-3b37f68cb5d6",
   "metadata": {},
   "outputs": [
    {
     "name": "stdout",
     "output_type": "stream",
     "text": [
      "(10, 20, 30)\n",
      "<class 'tuple'>\n"
     ]
    }
   ],
   "source": [
    "# Example\n",
    "list=[10,20,30] \n",
    "t=tuple(list) \n",
    "print(t) \n",
    "print(type(t))"
   ]
  },
  {
   "cell_type": "code",
   "execution_count": 7,
   "id": "5ee04f3b-0b71-46fb-995b-4bb3394a2a9b",
   "metadata": {},
   "outputs": [
    {
     "name": "stdout",
     "output_type": "stream",
     "text": [
      "(10, 12, 14, 16, 18)\n",
      "<class 'tuple'>\n"
     ]
    }
   ],
   "source": [
    "# using range in tuple\n",
    "t=tuple(range(10,20,2)) \n",
    "print(t) \n",
    "print(type(t)) "
   ]
  },
  {
   "cell_type": "code",
   "execution_count": 8,
   "id": "d9823004-37d3-4624-b23b-14ef67bb71df",
   "metadata": {},
   "outputs": [
    {
     "name": "stdout",
     "output_type": "stream",
     "text": [
      "('s', 'a', 'i', 'f', 'u', 'l', 'l', 'a')\n",
      "<class 'tuple'>\n"
     ]
    }
   ],
   "source": [
    "# using strings in tuple\n",
    "t = tuple('saifulla') \n",
    "print(t) \n",
    "print(type(t)) "
   ]
  },
  {
   "cell_type": "markdown",
   "id": "07db6c99-bbc4-407a-944f-a0645c0464ba",
   "metadata": {},
   "source": [
    "# Accessing elements of tuple: \n",
    "- We can access elements of a tuple either by using index or by using slice operator."
   ]
  },
  {
   "cell_type": "code",
   "execution_count": 10,
   "id": "33061212-c51f-4de4-bb44-d911d86a4400",
   "metadata": {},
   "outputs": [
    {
     "name": "stdout",
     "output_type": "stream",
     "text": [
      "10\n",
      "60\n"
     ]
    }
   ],
   "source": [
    "# By using index\n",
    "t=(10,20,30,40,50,60) \n",
    "print(t[0])  \n",
    "print(t[-1])  \n",
    "print(t[100]) # here it prints out of range"
   ]
  },
  {
   "cell_type": "code",
   "execution_count": 13,
   "id": "fa6c1212-4519-4476-b29b-dba14b5ee757",
   "metadata": {},
   "outputs": [
    {
     "name": "stdout",
     "output_type": "stream",
     "text": [
      "(30, 40, 50)\n",
      "(30, 40, 50, 60)\n",
      "(10, 30, 50)\n",
      "s\n",
      "('o', 'h', 'a', 'i')\n",
      "('i', 'a', 'h')\n"
     ]
    }
   ],
   "source": [
    "# using slice operator\n",
    "t=(10,20,30,40,50,60) \n",
    "print(t[2:5])  \n",
    "print(t[2:100])  \n",
    "print(t[::2]) \n",
    "\n",
    "\n",
    "# Another example\n",
    "t= tuple('sohail') \n",
    "print(t[0]) \n",
    "print(t[1:5:1]) \n",
    "print(t[-2:-5:-1]) "
   ]
  },
  {
   "cell_type": "markdown",
   "id": "ea60df82-3a3d-442b-bbf0-6528eb7ecfbf",
   "metadata": {},
   "source": [
    "#  Mathematical operators for tuple \n",
    "Here  We can apply + and * operators for tuple"
   ]
  },
  {
   "cell_type": "code",
   "execution_count": 15,
   "id": "2a6e8e55-dc74-43fd-a169-1ace60095f9e",
   "metadata": {},
   "outputs": [
    {
     "name": "stdout",
     "output_type": "stream",
     "text": [
      "(10, 20, 30, 40, 50, 60)\n",
      "(10, 20, 30, 40, 10, 20, 30, 40)\n"
     ]
    }
   ],
   "source": [
    "# Using Concatenation Operator(+)\n",
    "t1=(10,20,30) \n",
    "t2=(40,50,60) \n",
    "t3=t1+t2 \n",
    "print(t3)\n",
    "\n",
    "t1 = 10,20,30,40 \n",
    "t2 = 10,20,30,40 \n",
    "t3 = t1 + t2      # hetre list and tuple allow duplicates, so you will get all the elements \n",
    "print(t3)"
   ]
  },
  {
   "cell_type": "code",
   "execution_count": 16,
   "id": "f465eaa6-708a-417a-a63f-850b585d0e7e",
   "metadata": {},
   "outputs": [
    {
     "name": "stdout",
     "output_type": "stream",
     "text": [
      "(10, 20, 30, 10, 20, 30, 10, 20, 30)\n"
     ]
    }
   ],
   "source": [
    "# Using Multiplication operator(*)\n",
    "t1=(10,20,30) \n",
    "t2=t1*3 \n",
    "print(t2)"
   ]
  },
  {
   "cell_type": "markdown",
   "id": "5ae4f9ce-e6fe-48f4-9a76-ee2d34387a02",
   "metadata": {},
   "source": [
    "# Important functions/Methods of Tuple\n",
    "1. len(): \n",
    "- It is an in-built function of Python, if you provide any sequence (i.e., strings,list,tuple etc.,), in that how many elements are there that will be returned this function. \n",
    "- It is used to return number of elements present in the tuple.\n",
    "2. count():\n",
    "- To return number of occurrences of given element in the tuple.\n",
    "3. index(): \n",
    "- It returns index of first occurrence of the given element. If the specified element is not available then we will get ValueError.\n",
    "4. sorted(): \n",
    "- It is used to sort elements based on default natural sorting order (Ascending order).\n",
    "5. min() and max() functions\n",
    "- These functions return minimum and maximum values according to default natural sorting order. \n",
    "- These functions will works on tuple with respect to homogeneous elements only.\n",
    "6. cmp(): \n",
    "- It compares the elements of both tuples. \n",
    "- If both tuples are equal then returns 0. \n",
    "- If the first tuple is less than second tuple then it returns -1. \n",
    "- If the first tuple is greater than second tuple then it returns +1."
   ]
  },
  {
   "cell_type": "code",
   "execution_count": 18,
   "id": "9b0eba35-e8aa-4279-8bd9-e6a4df35fffe",
   "metadata": {},
   "outputs": [
    {
     "name": "stdout",
     "output_type": "stream",
     "text": [
      "4\n",
      "3\n"
     ]
    }
   ],
   "source": [
    "# Example for len()\n",
    "t=(10,20,30,40) \n",
    "print(len(t))\n",
    "\n",
    "# Example for count()\n",
    "t=(10,20,10,10,20) \n",
    "print(t.count(10)) "
   ]
  },
  {
   "cell_type": "code",
   "execution_count": 20,
   "id": "dc516300-6204-4c51-ad61-a3caa3b2a608",
   "metadata": {},
   "outputs": [
    {
     "name": "stdout",
     "output_type": "stream",
     "text": [
      "0\n"
     ]
    },
    {
     "ename": "ValueError",
     "evalue": "tuple.index(x): x not in tuple",
     "output_type": "error",
     "traceback": [
      "\u001b[31m---------------------------------------------------------------------------\u001b[39m",
      "\u001b[31mValueError\u001b[39m                                Traceback (most recent call last)",
      "\u001b[36mCell\u001b[39m\u001b[36m \u001b[39m\u001b[32mIn[20]\u001b[39m\u001b[32m, line 4\u001b[39m\n\u001b[32m      2\u001b[39m t=(\u001b[32m10\u001b[39m,\u001b[32m20\u001b[39m,\u001b[32m10\u001b[39m,\u001b[32m10\u001b[39m,\u001b[32m20\u001b[39m) \n\u001b[32m      3\u001b[39m \u001b[38;5;28mprint\u001b[39m(t.index(\u001b[32m10\u001b[39m))    \n\u001b[32m----> \u001b[39m\u001b[32m4\u001b[39m \u001b[38;5;28mprint\u001b[39m(\u001b[43mt\u001b[49m\u001b[43m.\u001b[49m\u001b[43mindex\u001b[49m\u001b[43m(\u001b[49m\u001b[32;43m30\u001b[39;49m\u001b[43m)\u001b[49m)\n",
      "\u001b[31mValueError\u001b[39m: tuple.index(x): x not in tuple"
     ]
    }
   ],
   "source": [
    "# Example for index()\n",
    "t=(10,20,10,10,20) \n",
    "print(t.index(10))    \n",
    "print(t.index(30))"
   ]
  },
  {
   "cell_type": "code",
   "execution_count": 22,
   "id": "4f19597d-c89c-4bed-85c8-62f2b803e473",
   "metadata": {},
   "outputs": [
    {
     "name": "stdout",
     "output_type": "stream",
     "text": [
      "[10, 20, 30, 40]\n",
      "1883926081712\n",
      "<class 'tuple'>\n",
      "1883925775424\n",
      "<class 'list'>\n",
      "[10, 20, 30, 40]\n"
     ]
    }
   ],
   "source": [
    "# Example for sorted()\n",
    "t =(10,30,40,20) \n",
    "print(sorted(t)) \n",
    "\n",
    "# Another example\n",
    "t=(40,10,30,20) \n",
    "print(id(t)) \n",
    "print(type(t)) \n",
    "t=sorted(t) \n",
    "print(id(t)) \n",
    "print(type(t)) \n",
    "print(t)    "
   ]
  },
  {
   "cell_type": "code",
   "execution_count": 23,
   "id": "e0043df8-da7f-4876-943c-b94f428aa7d3",
   "metadata": {},
   "outputs": [
    {
     "name": "stdout",
     "output_type": "stream",
     "text": [
      "<class 'list'>\n",
      "[10, 20, 30, 40]\n",
      "<class 'tuple'>\n",
      "(40, 10, 30, 20)\n"
     ]
    }
   ],
   "source": [
    "# Different example\n",
    "t=(40,10,30,20) \n",
    "t1=sorted(t) \n",
    "print(type(t1)) \n",
    "print(t1) \n",
    "print(type(t)) \n",
    "print(t)"
   ]
  },
  {
   "cell_type": "code",
   "execution_count": 24,
   "id": "f55ec5d9-1f40-4efb-9611-1090a8189c14",
   "metadata": {},
   "outputs": [
    {
     "name": "stdout",
     "output_type": "stream",
     "text": [
      "10\n",
      "40\n"
     ]
    }
   ],
   "source": [
    "# Example for  min() and max() functions\n",
    "t=(40,10,30,20) \n",
    "print(min(t))   \n",
    "print(max(t)) "
   ]
  },
  {
   "cell_type": "code",
   "execution_count": 25,
   "id": "1e8db836-5cec-4f07-8f76-45998a395df4",
   "metadata": {},
   "outputs": [
    {
     "name": "stdout",
     "output_type": "stream",
     "text": [
      "False\n",
      "True\n",
      "False\n",
      "True\n"
     ]
    }
   ],
   "source": [
    "# Example for cmp()\n",
    "t1=(10,20,30) \n",
    "t2=(40,50,60) \n",
    "t3=(10,20,30) \n",
    "print(t1==t2) \n",
    "print(t1==t3) \n",
    "print(t2==t3) \n",
    "print(t1<t2) "
   ]
  },
  {
   "cell_type": "code",
   "execution_count": 26,
   "id": "ef27a57d-db9d-40ea-b0e4-64d9923cba5a",
   "metadata": {},
   "outputs": [
    {
     "name": "stdout",
     "output_type": "stream",
     "text": [
      "False\n"
     ]
    }
   ],
   "source": [
    "# Another example\n",
    "t1=(10,20,30) \n",
    "t2=(5,50,60) \n",
    "print(t1<t2)"
   ]
  },
  {
   "cell_type": "markdown",
   "id": "aca74dfb-9351-48d9-a74e-94577cb68b84",
   "metadata": {},
   "source": [
    "# Tuple Packing and Unpacking \n",
    "1. Tuple packing: \n",
    "- We can create a tuple by packing a group of variables\n",
    "2. Tuple unpacking : \n",
    "- Tuple unpacking is the reverse process of tuple packing. \n",
    "- We can unpack a tuple and assign its values to different variables. "
   ]
  },
  {
   "cell_type": "code",
   "execution_count": 28,
   "id": "f1cacdae-10b7-49e0-9c2d-caf9bd626dff",
   "metadata": {},
   "outputs": [
    {
     "name": "stdout",
     "output_type": "stream",
     "text": [
      "(10, 20, 30, 40)\n"
     ]
    }
   ],
   "source": [
    "# Example for tuple packing\n",
    "a=10 \n",
    "b=20 \n",
    "c=30 \n",
    "d=40 \n",
    "t=a,b,c,d \n",
    "print(t) # Here a,b,c,d are packed into a tuple t. This is nothing but tuple packing."
   ]
  },
  {
   "cell_type": "code",
   "execution_count": 30,
   "id": "aee7e53f-f7fb-45b3-9e44-a0bc78add00b",
   "metadata": {},
   "outputs": [
    {
     "name": "stdout",
     "output_type": "stream",
     "text": [
      "a= 10 b= 20 c= 30 d= 40\n"
     ]
    }
   ],
   "source": [
    "# Example for tuple unpacking\n",
    "t=(10,20,30,40) \n",
    "a,b,c,d=t \n",
    "print(\"a=\",a,\"b=\",b,\"c=\",c,\"d=\",d)\n",
    "# It is applicable for any sequence (i.e., string, list, set etc.,) concept also"
   ]
  },
  {
   "cell_type": "code",
   "execution_count": 31,
   "id": "9604b028-9217-490b-a439-757f197d64a3",
   "metadata": {},
   "outputs": [
    {
     "name": "stdout",
     "output_type": "stream",
     "text": [
      "a= 10 b= 20 c= 30 d= 40\n"
     ]
    }
   ],
   "source": [
    "# List Unpacking: \n",
    "t=[10,20,30,40] \n",
    "a,b,c,d=t \n",
    "print(\"a=\",a,\"b=\",b,\"c=\",c,\"d=\",d) "
   ]
  },
  {
   "cell_type": "code",
   "execution_count": 32,
   "id": "d41f45fa-5e2a-42ab-a939-96bc257f63f1",
   "metadata": {},
   "outputs": [
    {
     "name": "stdout",
     "output_type": "stream",
     "text": [
      "a= a b= b c= c d= d\n"
     ]
    }
   ],
   "source": [
    "# String Unpacking:  \n",
    "t='abcd' \n",
    "a,b,c,d=t \n",
    "print(\"a=\",a,\"b=\",b,\"c=\",c,\"d=\",d) "
   ]
  },
  {
   "cell_type": "code",
   "execution_count": 33,
   "id": "53565647-091a-4b7f-a996-3cc6d46d57d3",
   "metadata": {},
   "outputs": [
    {
     "name": "stdout",
     "output_type": "stream",
     "text": [
      "<class 'list'>\n",
      "[10, 20, 30, 40]\n"
     ]
    }
   ],
   "source": [
    "# List Packing:  \n",
    "a = 10 \n",
    "b = 20 \n",
    "c = 30 \n",
    "d = 40 \n",
    "t =[a,b,c,d] \n",
    "print(type(t)) \n",
    "print(t) "
   ]
  },
  {
   "cell_type": "code",
   "execution_count": 34,
   "id": "c1bc745f-5e76-41fc-af1a-8555ae9204c3",
   "metadata": {},
   "outputs": [
    {
     "name": "stdout",
     "output_type": "stream",
     "text": [
      "<class 'str'>\n",
      "a,b,c,d\n"
     ]
    }
   ],
   "source": [
    "# String Packing:  \n",
    "a = 10 \n",
    "b = 20 \n",
    "c = 30 \n",
    "d = 40 \n",
    "t ='a,b,c,d' \n",
    "print(type(t)) \n",
    "print(t) "
   ]
  },
  {
   "cell_type": "markdown",
   "id": "1dedc2d7-b4ec-4089-a764-7486ec44a243",
   "metadata": {},
   "source": [
    "#  Tuple Comprehension \n",
    "Tuple Comprehension is not supported by Python. \n",
    "- t= ( x**2 for x in range(1,6)) \n",
    "- Here we are not getting tuple object and we are getting generator object."
   ]
  },
  {
   "cell_type": "code",
   "execution_count": null,
   "id": "f5c53ded-da6d-4603-bf0d-93320bcd89d9",
   "metadata": {},
   "outputs": [],
   "source": []
  }
 ],
 "metadata": {
  "kernelspec": {
   "display_name": "Python 3 (ipykernel)",
   "language": "python",
   "name": "python3"
  },
  "language_info": {
   "codemirror_mode": {
    "name": "ipython",
    "version": 3
   },
   "file_extension": ".py",
   "mimetype": "text/x-python",
   "name": "python",
   "nbconvert_exporter": "python",
   "pygments_lexer": "ipython3",
   "version": "3.13.4"
  }
 },
 "nbformat": 4,
 "nbformat_minor": 5
}
