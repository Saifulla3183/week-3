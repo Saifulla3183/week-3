{
 "cells": [
  {
   "cell_type": "markdown",
   "id": "55d93765-be58-4979-8436-5414af5def0b",
   "metadata": {},
   "source": [
    "# SET DATATYPE:\n",
    "If we want to represent a group of unique values as a single entity then we should go for set\n",
    "# Key features of Set Data Type:\n",
    "1. Duplicates are not allowed.\n",
    "2. Insertion order is not preserved. But we can sort the elements.\n",
    "3. Indexing and slicing not allowed for the set.\n",
    "4. Heterogeneous elements are allowed.\n",
    "5. Set objects are mutable i.e., once we creates set object we can perform any changes in that object based on our requirement.\n",
    "6. We can represent set elements within curly braces and with comma separation.\n",
    "7. We can apply mathematical operations like union,intersection,difference etc., on set objects."
   ]
  },
  {
   "cell_type": "code",
   "execution_count": 3,
   "id": "c3e5b6e8-1551-46cb-93bc-2acac81d2b3c",
   "metadata": {},
   "outputs": [
    {
     "name": "stdout",
     "output_type": "stream",
     "text": [
      "<class 'set'>\n",
      "{10, 20, 50}\n"
     ]
    }
   ],
   "source": [
    "# Creation of Set Objects\n",
    "s = {10,20,50}\n",
    "print(type(s))\n",
    "print(s)"
   ]
  },
  {
   "cell_type": "markdown",
   "id": "d0e1e755-db74-4e83-a7a8-a315cc52e403",
   "metadata": {},
   "source": [
    "#  Creation of set objects using set() function\n",
    "Wecan create set objects by using set() function.\n",
    "# Syntax\n",
    " s=set(any sequence)"
   ]
  },
  {
   "cell_type": "code",
   "execution_count": 7,
   "id": "0289d5d4-e75f-445e-9cb3-1d0ec8b0055c",
   "metadata": {},
   "outputs": [
    {
     "name": "stdout",
     "output_type": "stream",
     "text": [
      "{40, 10, 20, 30}\n",
      "{0, 1, 2, 3, 4}\n",
      "{'i', 'a', 's', 'f', 'l', 'u'}\n",
      "{'b', 'a'}\n"
     ]
    }
   ],
   "source": [
    "# Example\n",
    "l = [10,20,30,40,10,20,10]\n",
    "s=set(l)\n",
    "print(s) # In the set duplicate values are not allowed\n",
    "\n",
    "# Another Example\n",
    "s=set(range(5))\n",
    "print(s)\n",
    "\n",
    "# using strings\n",
    "s = set('saifulla')\n",
    "print(s)\n",
    "\n",
    "# Another Example\n",
    "s = set('aabbaababab')\n",
    "print(s) # It prints only 1 a and 1 b because set does not allow duplicate values"
   ]
  },
  {
   "cell_type": "markdown",
   "id": "3f886409-81a5-4c6b-8859-08435caf624d",
   "metadata": {},
   "source": [
    "#  Important functions / methods of set\n",
    "1. add()\n",
    "2. update()\n",
    "3. copy()\n",
    "4. pop()\n",
    "5. remove()\n",
    "6. discard()\n",
    "7. clear()"
   ]
  },
  {
   "cell_type": "markdown",
   "id": "d81bfac6-0b6e-4c9c-ad79-0e40d3fdf358",
   "metadata": {},
   "source": [
    "# 1. add() \n",
    "It Adds item x to the set"
   ]
  },
  {
   "cell_type": "code",
   "execution_count": 31,
   "id": "51a3ade2-348e-4b8a-a8cd-ab4b59f7c8e7",
   "metadata": {},
   "outputs": [
    {
     "name": "stdout",
     "output_type": "stream",
     "text": [
      "{40, 10, 20, 30}\n",
      "{10, 'saif', 20, 30}\n"
     ]
    }
   ],
   "source": [
    "# 1.add()\n",
    "s={10,20,30}\n",
    "s.add(40)\n",
    "print(s)\n",
    "# It will add strings also\n",
    "s={10,20,30}\n",
    "s.add('saif');\n",
    "print(s)"
   ]
  },
  {
   "cell_type": "markdown",
   "id": "c3b86a9b-c105-4ffa-a796-4a77c820a8c6",
   "metadata": {},
   "source": [
    "# 2. update(x,y,z):\n",
    "- This method is used to add multiple items to the set.\n",
    "- Arguments are not individual elements and these are Iterable objects like String, List, range etc.\n",
    "- All elements present in the given Iterable objects will be added to the set"
   ]
  },
  {
   "cell_type": "code",
   "execution_count": 13,
   "id": "0c904909-9306-4366-a531-68976b2ea3b6",
   "metadata": {},
   "outputs": [
    {
     "name": "stdout",
     "output_type": "stream",
     "text": [
      "{'i', 'a', 10, 's', 'f', 20, 30}\n",
      "{0, 1, 2, 3, 4, 40, 10, 50, 20, 60, 30}\n"
     ]
    }
   ],
   "source": [
    "# 2.update\n",
    "s={10,20,30}\n",
    "s.update('saif');\n",
    "print(s)\n",
    "# Another example\n",
    "s={10,20,30}\n",
    "l=[40,50,60,10]\n",
    "s.update(l,range(5))\n",
    "print(s)"
   ]
  },
  {
   "cell_type": "code",
   "execution_count": 15,
   "id": "e863ed31-4de5-4653-93c1-deeb6a6599ee",
   "metadata": {},
   "outputs": [
    {
     "name": "stdout",
     "output_type": "stream",
     "text": [
      "{0, 1, 2, 3, 4, 5, 6, 7, 8, 9}\n"
     ]
    }
   ],
   "source": [
    "# Example\n",
    "s =set()\n",
    "s.update(range(1,10,2),range(0,10,2)) # Did not understand\n",
    "print(s)"
   ]
  },
  {
   "cell_type": "markdown",
   "id": "376918bb-3c09-4a1e-8ebd-3748bad95134",
   "metadata": {},
   "source": [
    "# 3. copy():\n",
    "Returns copy of the set. It is cloned object (Backup copy)"
   ]
  },
  {
   "cell_type": "code",
   "execution_count": 16,
   "id": "77939f69-d8d1-4708-8be1-edf7fbb7734e",
   "metadata": {},
   "outputs": [
    {
     "name": "stdout",
     "output_type": "stream",
     "text": [
      "{10, 20, 30}\n",
      "{10, 20, 30}\n"
     ]
    }
   ],
   "source": [
    "# Example\n",
    "s={10,20,30}\n",
    "s1=s.copy()\n",
    "print(s1)\n",
    "print(s)"
   ]
  },
  {
   "cell_type": "markdown",
   "id": "44fdc96c-9861-4e47-89f5-b54d7364284c",
   "metadata": {},
   "source": [
    "# 4. pop():\n",
    "Itremoves and returns some random element from the set"
   ]
  },
  {
   "cell_type": "code",
   "execution_count": 19,
   "id": "2d09d0e3-a47a-4e8d-8b4e-d37a89cdd127",
   "metadata": {},
   "outputs": [
    {
     "name": "stdout",
     "output_type": "stream",
     "text": [
      "{40, 10, 20, 30}\n",
      "40\n",
      "10\n",
      "20\n",
      "{30}\n",
      "30\n",
      "set()\n"
     ]
    }
   ],
   "source": [
    "# Example\n",
    "s={40,10,30,20}\n",
    "print(s)\n",
    "print(s.pop())\n",
    "print(s.pop())\n",
    "print(s.pop())\n",
    "print(s)\n",
    "print(s.pop())\n",
    "print(s)"
   ]
  },
  {
   "cell_type": "markdown",
   "id": "d6db7587-a9e2-4d74-b5ba-8649d53bb0ee",
   "metadata": {},
   "source": [
    "# 5. remove(x):\n",
    "- It removes specified element from the set.\n",
    "- If the specified element not present in the set, then we will get KeyError"
   ]
  },
  {
   "cell_type": "code",
   "execution_count": 20,
   "id": "190903b6-93c8-453a-98d2-580e165cf0f3",
   "metadata": {},
   "outputs": [
    {
     "name": "stdout",
     "output_type": "stream",
     "text": [
      "{40, 10, 20}\n"
     ]
    }
   ],
   "source": [
    "# Example\n",
    "s={40,10,30,20}\n",
    "s.remove(30)\n",
    "print(s)"
   ]
  },
  {
   "cell_type": "markdown",
   "id": "b9128f0c-7935-458b-ba4c-abeefbe23128",
   "metadata": {},
   "source": [
    "# 6. discard(x):\n",
    "- It removes the specified element from the set.\n",
    "- If the specified element not present in the set then we won't get any error"
   ]
  },
  {
   "cell_type": "code",
   "execution_count": 21,
   "id": "c86f6886-cb13-4cf5-995b-7dbf6cad1856",
   "metadata": {},
   "outputs": [
    {
     "name": "stdout",
     "output_type": "stream",
     "text": [
      "{20, 30}\n",
      "{20, 30}\n"
     ]
    }
   ],
   "source": [
    "# Example\n",
    "s={10,20,30}\n",
    "s.discard(10)\n",
    "print(s)\n",
    "s.discard(50)\n",
    "print(s)"
   ]
  },
  {
   "cell_type": "markdown",
   "id": "eb8716e0-5c42-4f29-a617-cb35045b9633",
   "metadata": {},
   "source": [
    "# 7.clear():\n",
    "To remove all elements from the Set"
   ]
  },
  {
   "cell_type": "code",
   "execution_count": 22,
   "id": "c1c62769-c968-4540-8da0-75c240ecfef3",
   "metadata": {},
   "outputs": [
    {
     "name": "stdout",
     "output_type": "stream",
     "text": [
      "{10, 20, 30}\n",
      "set()\n"
     ]
    }
   ],
   "source": [
    "# Example\n",
    "s={10,20,30}\n",
    "print(s)\n",
    "s.clear()\n",
    "print(s)"
   ]
  },
  {
   "cell_type": "markdown",
   "id": "9ca364f9-5a8b-442f-b678-6b58ccca87c3",
   "metadata": {},
   "source": [
    "#  Mathematical operations on the Set\n",
    "1.union():\n",
    "- x.union(y)\n",
    "- We can use this function to return all elements present in both x and y sets.\n",
    "- We can perform union operation in two ways:\n",
    "1. x.union(y)\n",
    "- by calling through union() method.\n",
    "2. x|y\n",
    "- by using '|' operator.\n",
    "- This operation returns all elements present in both sets x and y (without duplicate elements)."
   ]
  },
  {
   "cell_type": "code",
   "execution_count": 23,
   "id": "0b95bf05-f1da-443c-826e-5092bcaf8031",
   "metadata": {},
   "outputs": [
    {
     "name": "stdout",
     "output_type": "stream",
     "text": [
      "{40, 10, 50, 20, 60, 30}\n",
      "{40, 10, 50, 20, 60, 30}\n"
     ]
    }
   ],
   "source": [
    "# Example\n",
    "x={10,20,30,40}\n",
    "y={30,40,50,60}\n",
    "print(x.union(y))\n",
    "print(x|y)"
   ]
  },
  {
   "cell_type": "markdown",
   "id": "9350c0fa-a393-4813-9fb6-4bd9473f4a40",
   "metadata": {},
   "source": [
    "#  intersection():\n",
    "- Wecan perform intersection operation in two ways:\n",
    "1. x.intersection(y)\n",
    "- by calling through intersection() method.\n",
    "2. x&y\n",
    "- by using '&' operator.\n",
    "- This operation returns common elements present in both sets x and y"
   ]
  },
  {
   "cell_type": "code",
   "execution_count": 25,
   "id": "a7f76a7c-bca8-4223-9947-805ed620d5ca",
   "metadata": {},
   "outputs": [
    {
     "name": "stdout",
     "output_type": "stream",
     "text": [
      "{40, 30}\n",
      "{40, 30}\n"
     ]
    }
   ],
   "source": [
    "# Example\n",
    "x={10,20,30,40}\n",
    "y={30,40,50,60}\n",
    "print(x.intersection(y))\n",
    "print(x&y)"
   ]
  },
  {
   "cell_type": "markdown",
   "id": "29368c74-9e5a-46bb-ac25-5c2e25a8f07c",
   "metadata": {},
   "source": [
    "# difference():\n",
    "- We can perform difference operation in two ways:\n",
    "1. x.difference(y)\n",
    "- by calling through difference() method.\n",
    "2. x-y\n",
    "- by using '-' operator.\n",
    "- This operation returns the elements present in x but not in y"
   ]
  },
  {
   "cell_type": "code",
   "execution_count": 26,
   "id": "1a871ef9-75b4-4036-ac0e-f90c975c9254",
   "metadata": {},
   "outputs": [
    {
     "name": "stdout",
     "output_type": "stream",
     "text": [
      "{10, 20}\n",
      "{10, 20}\n",
      "{50, 60}\n"
     ]
    }
   ],
   "source": [
    "# Example\n",
    "x={10,20,30,40}\n",
    "y={30,40,50,60}\n",
    "print(x.difference(y))\n",
    "print(x-y)\n",
    "print(y-x)"
   ]
  },
  {
   "cell_type": "markdown",
   "id": "82ce11fc-136b-42cc-b2a4-68de8ca18b27",
   "metadata": {},
   "source": [
    "# symmetric_difference():\n",
    "- We can perform symmetric difference operation in two ways:\n",
    "1. x.symmetric_difference(y)\n",
    "- by calling through symmetric_difference method.\n",
    "2. x^y\n",
    "- by using '^' operator.\n",
    "- This operation returns elements present in either x or y but not in both"
   ]
  },
  {
   "cell_type": "code",
   "execution_count": 27,
   "id": "de6d5be6-e46b-40bf-b02e-ead86724c55b",
   "metadata": {},
   "outputs": [
    {
     "name": "stdout",
     "output_type": "stream",
     "text": [
      "{10, 50, 20, 60}\n",
      "{10, 50, 20, 60}\n"
     ]
    }
   ],
   "source": [
    "# Example\n",
    "x={10,20,30,40}\n",
    "y={30,40,50,60}\n",
    "print(x.symmetric_difference(y))\n",
    "print(x^y)"
   ]
  },
  {
   "cell_type": "markdown",
   "id": "90fe62f4-a6fb-4462-8a86-59a47a568937",
   "metadata": {},
   "source": [
    "# Membership operators:\n",
    "- Membership operators are used to check whether a particular object is available or not.\n",
    "- For any sequence, we can apply membership operators.\n",
    "- Following are the membership operators:\n",
    "1. in\n",
    "2. not in"
   ]
  },
  {
   "cell_type": "code",
   "execution_count": 28,
   "id": "23f174bb-abf8-4656-80d7-04fb21e0c776",
   "metadata": {},
   "outputs": [
    {
     "name": "stdout",
     "output_type": "stream",
     "text": [
      "{'i', 'a', 's', 'f', 'l', 'u'}\n",
      "True\n",
      "False\n"
     ]
    }
   ],
   "source": [
    "# Example\n",
    "s=set(\"saifulla\")\n",
    "print(s)\n",
    "print('a' in s)\n",
    "print('d' in s)"
   ]
  },
  {
   "cell_type": "markdown",
   "id": "1f80a3c7-83dd-4e4d-b34e-077642e0983b",
   "metadata": {},
   "source": [
    "# 6. Set Comprehension\n",
    "Set comprehension is possible.\n",
    "# Syntax:\n",
    " s = {expression for x in sequence condition}"
   ]
  },
  {
   "cell_type": "code",
   "execution_count": 30,
   "id": "bb4211d4-faed-4d2b-971c-9646cb57748c",
   "metadata": {},
   "outputs": [
    {
     "name": "stdout",
     "output_type": "stream",
     "text": [
      "{0, 1, 4, 9, 16, 25}\n",
      "{16, 256, 64, 4}\n"
     ]
    }
   ],
   "source": [
    "# Example\n",
    "s = {x*x for x in range(6)}\n",
    "print(s)                           # Did not understand these concept\n",
    "\n",
    "# Example 2\n",
    "s={2**x for x in range(2,10,2)}\n",
    "print(s)                          # Did not understand these concept"
   ]
  },
  {
   "cell_type": "code",
   "execution_count": null,
   "id": "197c7dff-d44c-431f-85de-30a400e8a7f1",
   "metadata": {},
   "outputs": [],
   "source": []
  }
 ],
 "metadata": {
  "kernelspec": {
   "display_name": "Python 3 (ipykernel)",
   "language": "python",
   "name": "python3"
  },
  "language_info": {
   "codemirror_mode": {
    "name": "ipython",
    "version": 3
   },
   "file_extension": ".py",
   "mimetype": "text/x-python",
   "name": "python",
   "nbconvert_exporter": "python",
   "pygments_lexer": "ipython3",
   "version": "3.13.4"
  }
 },
 "nbformat": 4,
 "nbformat_minor": 5
}
